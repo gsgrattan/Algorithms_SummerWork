{
  "nbformat": 4,
  "nbformat_minor": 0,
  "metadata": {
    "colab": {
      "name": "406_P1_Vertex_Cover_IO.ipynb",
      "provenance": [],
      "authorship_tag": "ABX9TyPbOTFd6Z3gnTLncekTigcS"
    },
    "kernelspec": {
      "display_name": "Python 3",
      "name": "python3"
    },
    "language_info": {
      "name": "python"
    }
  },
  "cells": [
    {
      "cell_type": "code",
      "metadata": {
        "id": "AjgKEhy7M-H0"
      },
      "source": [
        "import networkx as nx\n",
        "import matplotlib.pyplot as plt\n",
        "import numpy as np\n",
        "import random as rand\n",
        "import copy\n",
        "from itertools import chain, combinations"
      ],
      "execution_count": null,
      "outputs": []
    },
    {
      "cell_type": "markdown",
      "metadata": {
        "id": "VEtQ2un0Q6tm"
      },
      "source": [
        "Written by: George Grattan (Applied Math '22) for Dinesh Mehta for CSCI 406, Algorithms, at Colorado School of Mines.\n",
        "\n",
        "Notes: I use the networkx package for the graph implementation for this, with the students we will need to specify what packages they use as they can drastically impact the time complexity. We even may need to have them develop their own graph implementation to standardize things for grading purposes.\n",
        "\n",
        "\n",
        "\n",
        "Last Edited: 7/26/2021"
      ]
    },
    {
      "cell_type": "code",
      "metadata": {
        "id": "EpjZ0KsgQ-P2"
      },
      "source": [
        "#Input: integer for the number of nodes\n",
        "#output: edges: A list of strings that allow for easy input\n",
        "#        graph: a networkx graph that will be used to find the output\n",
        "#NOTE: Within the function there is  this line \"if (rand.random()<0.15):\" You can alter the .15 to change the likelihood an edge connects two nodes, and thus alter the connectedness of the graph\n",
        "def generate_edges(n):\n",
        "  #This is the set of edges\n",
        "  edges=set()\n",
        "  #I also store the graph as a networkx graph to simplify generating output later\n",
        "  graph=nx.Graph()\n",
        "  for i in range(1,n+1):\n",
        "    graph.add_node(i)\n",
        "\n",
        "  #iterate through indicies [1,n]\n",
        "  for i in range(1,n+1):\n",
        "    #do it again\n",
        "    for j in range(1,n+1):\n",
        "    \n",
        "      #if the indicies are not the same\n",
        "      if (i!=j):\n",
        "\n",
        "        #create an edge between them represented as a tuple\n",
        "        edge=(i,j)\n",
        "        #if the edge does not already exist\n",
        "\n",
        "        if ((edge not in edges) and (edge[::-1] not in edges)):\n",
        "\n",
        "          #try to add the edge with a 15% success rate\n",
        "          if (rand.random()<0.15):\n",
        "            edges.add(edge)\n",
        "            graph.add_edge(edge[0],edge[1])\n",
        "          \n",
        "  #return the set of edges\n",
        "  return edges, graph\n",
        "    \n"
      ],
      "execution_count": null,
      "outputs": []
    },
    {
      "cell_type": "code",
      "metadata": {
        "id": "nrY358IYk3jC"
      },
      "source": [
        "#Input: egdes: The set of tuples representing the edges\n",
        "#Output: the edges as a set of strings\n",
        "\n",
        "#this function converts the list of edges to a list of strings that can easily be written to the file\n",
        "def edges_to_strings(edges):\n",
        "  new_edges=set()\n",
        "\n",
        "  #iterate through the set\n",
        "  for edge in edges:\n",
        "\n",
        "    #create a string of the form \"<first_node> <second_node>\\n\"\n",
        "   new_edge=str(edge[0])+\" \"+str(edge[1])+\"\\n\"\n",
        "\n",
        "   #add the string to the new set \n",
        "   new_edges.add(new_edge)\n",
        "   \n",
        "  return new_edges\n",
        "  \n"
      ],
      "execution_count": null,
      "outputs": []
    },
    {
      "cell_type": "code",
      "metadata": {
        "id": "P52ugiVdNkSz"
      },
      "source": [
        "#generates powerset of the array\n",
        "def generate_powerset(iterable):\n",
        "    \"powerset([1,2,3]) --> () (1,) (2,) (3,) (1,2) (1,3) (2,3) (1,2,3)\"\n",
        "    s = list(iterable)\n",
        "    return chain.from_iterable(combinations(s, r) for r in range(len(s)+1))"
      ],
      "execution_count": null,
      "outputs": []
    },
    {
      "cell_type": "code",
      "metadata": {
        "id": "ppL6sYpBxEl9"
      },
      "source": [
        "#Input:\n",
        "#   graph: networkx graph object\n",
        "#   cover: a collection of nodes from that graph\n",
        "#Output: Booleab value if the cover is a valid Vertex Cover of the graph\n",
        "\n",
        "#Determine if the proposed cover is a valid vertex cover\n",
        "def is_valid_VC(graph, cover):\n",
        "  graph1=copy.deepcopy(graph)\n",
        "  for node in cover:\n",
        "    graph1.remove_node(node)\n",
        "  if len(graph1.edges)==0:\n",
        "    return True\n",
        "  else:\n",
        "    return False"
      ],
      "execution_count": null,
      "outputs": []
    },
    {
      "cell_type": "code",
      "metadata": {
        "id": "CDB9gg4LNOBR"
      },
      "source": [
        "#Input: a networkx graph object\n",
        "#Output: the exhaustive algorithm's minimum vertex cover, a list of verticies representing the cover\n",
        "\n",
        "#This function will try every possible vertex cover solution and return the best one(s).\n",
        "#it exploits the fact that the power set is sorted in increasing order, so the first valid vertex cover found will be the minimum cover\n",
        "def exhaustive(graph):\n",
        "  nodes=graph.nodes\n",
        "  powerset=generate_powerset(nodes)\n",
        "  for VC in powerset:\n",
        "    if is_valid_VC(graph, VC):\n",
        "      return len(VC)\n",
        "\n",
        "\n",
        "  "
      ],
      "execution_count": null,
      "outputs": []
    },
    {
      "cell_type": "code",
      "metadata": {
        "id": "YbJuR5h0OYme"
      },
      "source": [
        "#input: newtorkx graph object\n",
        "#Output: The node that connects to the most edges\n",
        "def find_most_edges(graph):\n",
        "  #create a list of nodes from the graph\n",
        "  nodes = list(graph)\n",
        "  #the current max node is the first node\n",
        "  max_node=nodes[0]\n",
        "  #the current max number of edges is the number of edges the first node has\n",
        "  max_edges=len(graph.edges(max_node))\n",
        "  #iterate through the nodes\n",
        "  #calculate the current number of edges\n",
        "  for node in nodes:\n",
        "    curr_num=len(graph.edges(node))\n",
        "    #if the current number of edges is greater than the max, reset max_node and max_edges\n",
        "    if (curr_num>max_edges):\n",
        "      max_node=node\n",
        "      max_edges=curr_num\n",
        "      #if it is the same, chooose the node wose integer label is SMALLER\n",
        "    elif (curr_num==max_edges):\n",
        "      if (node<max_node):\n",
        "        max_node=node\n",
        "        max_edges=curr_num\n",
        "        #return the node with the most edges\n",
        "  return max_node\n",
        "\n"
      ],
      "execution_count": null,
      "outputs": []
    },
    {
      "cell_type": "code",
      "metadata": {
        "id": "CHfFKAowNiAx"
      },
      "source": [
        "#Input: a networkx graph object\n",
        "#Output: The greedy algorithm's minimum vertex cover, a list of verticies representing the cover\n",
        "\n",
        "#This function implements the greedy algorithm as defined in the handout\n",
        "def greedy(graph):\n",
        "  graph1=copy.deepcopy(graph)\n",
        "  VC=0\n",
        "  while (len(graph1.edges) !=0):\n",
        "    graph1.remove_node(find_most_edges(graph1))\n",
        "    VC+=1\n",
        "  return VC\n",
        "\n"
      ],
      "execution_count": null,
      "outputs": []
    },
    {
      "cell_type": "code",
      "metadata": {
        "id": "wsD53TPGiP-c"
      },
      "source": [
        "#Input: n: the number of nodes\n",
        "#       edges: the set of edges\n",
        "#       iteration: which file iteration you want to use\n",
        "#Output: A file representation of a random graph of n nodes\n",
        "def create_input_file(n,edges, iteration,graph):\n",
        "  #Create the filename based on interation\n",
        "  filename=\"Vertex_Cover_Input_\"\n",
        "  filename+=str(iteration)\n",
        "\n",
        "  #open the file\n",
        "  f=open(filename,\"w\")\n",
        "\n",
        "  #write the number of nodes and edges on the first two lines respectively\n",
        "  f.write(str(n)+\"\\n\")\n",
        "  f.write(str(len(edges))+\"\\n\")\n",
        "\n",
        "  #write the edges\n",
        "  edges=edges_to_strings(edges)\n",
        "  f.writelines(edges)\n",
        "  f.write(\"\\n\\n\")\n",
        "  #if n<=20 compute the exhaustive output.\n",
        "  f.write(\"GREEDY OUTPUT:\"+str(greedy(graph))+\"\\n\")\n",
        "  if (n<=20):\n",
        "    f.write(\"EXHAUSTIVE OUTPUT: \"+str(exhaustive(graph)))\n",
        "  #close the file\n",
        "  f.close()\n",
        "\n",
        "\n"
      ],
      "execution_count": null,
      "outputs": []
    },
    {
      "cell_type": "code",
      "metadata": {
        "id": "CMuBHj8ZpWkf"
      },
      "source": [
        "#Generate Input\n",
        "#INput:\n",
        "#   num_nodes: The number of nodes in the graph\n",
        "#   num_files: The number of files you wish to generate\n",
        "#   show_graph: Bool value if you want to print the graph, DEFAULT=True\n",
        "\n",
        "#Output: Files with the input specifing each graph, and the output for the greedy and exhaustive (if n<=20) algorithms\n",
        "    #if show_graph=True plots representing each graph randomly generated\n",
        "\n",
        "def generate_input(num_nodes, num_files,show_graph=True):\n",
        "  #iterate throught the number of files you want to make\n",
        "  for iteration in range(1,num_files+1):\n",
        "    #generate a random graph, and an input file relating to that graph\n",
        "    edges,graph=generate_edges(num_nodes)\n",
        "    #create_input_file uses both algorithms to add the expected output to the bottom of the graph\n",
        "    create_input_file(num_nodes, edges, iteration,graph)\n",
        "    #If true show the graph, default True\n",
        "    if (show_graph):\n",
        "      nx.draw(graph, with_labels=True)\n",
        "      plt.show()\n",
        "    "
      ],
      "execution_count": null,
      "outputs": []
    },
    {
      "cell_type": "code",
      "metadata": {
        "id": "FLBWWUtyrsHc"
      },
      "source": [
        "#driver code:\n",
        "num_nodes=15\n",
        "num_files=10\n",
        "generate_input(num_nodes, num_files,False)"
      ],
      "execution_count": null,
      "outputs": []
    }
  ]
}