{
  "nbformat": 4,
  "nbformat_minor": 0,
  "metadata": {
    "colab": {
      "name": "406_P3_Tesseract_IO.ipynb",
      "provenance": [],
      "collapsed_sections": [],
      "authorship_tag": "ABX9TyMBSkOmjitEfQ6hsNGHz/qb",
      "include_colab_link": true
    },
    "kernelspec": {
      "name": "python3",
      "display_name": "Python 3"
    },
    "language_info": {
      "name": "python"
    }
  },
  "cells": [
    {
      "cell_type": "markdown",
      "metadata": {
        "id": "view-in-github",
        "colab_type": "text"
      },
      "source": [
        "<a href=\"https://colab.research.google.com/github/gsgrattan/Algorithms_SummerWork/blob/main/Project%203/%20Tesseract%20Stacking/406_P3_Tesseract_IO.ipynb\" target=\"_parent\"><img src=\"https://colab.research.google.com/assets/colab-badge.svg\" alt=\"Open In Colab\"/></a>"
      ]
    },
    {
      "cell_type": "code",
      "metadata": {
        "id": "hzdO5CNG_sUa"
      },
      "source": [
        "import numpy as np\n",
        "import functools\n",
        "from functools import total_ordering\n",
        "import random "
      ],
      "execution_count": null,
      "outputs": []
    },
    {
      "cell_type": "markdown",
      "metadata": {
        "id": "X5Str6cPFJ1X"
      },
      "source": [
        "Written by: George Grattan (Applied Math '22) for Dinesh Mehta for CSCI 406, Algorithms, at Colorado School of Mines.\n",
        "\n",
        "Note: A good way to think about this problem once you have generated the different rotations for the 4D objects, consider the 3D projections just a 3 dimensional box, and the W dimension as weight. Thus the goal of the problem becomes fitting boxes inside one another so that you can maximize the weight. And once the boxes are sorted by decreasing volume, this becomes an instance of Longest Increasing Subsequence. This interpretation gives an intuitive background to the problem itself, however it can ONLY be applied after all the rotations of the boxes have been made.\n",
        "\n",
        "Last Edited: 7/27/2021"
      ]
    },
    {
      "cell_type": "code",
      "metadata": {
        "id": "OI40JV396OpG"
      },
      "source": [
        "#define block class\n",
        "class block:\n",
        "  #initialize the block\n",
        "  def __init__(self,w,x,y,z):\n",
        "    self.W=w\n",
        "    #The following ensure each block satisfies the constraints of the problem such that x<=y<=z\n",
        "    #by doing this implicitly in the initialization of a block object I can simplify rotating them later\n",
        "    projection=[x,y,z]\n",
        "    projection.sort()\n",
        "    self.X=projection[0]\n",
        "    self.Y=projection[1]\n",
        "    self.Z=projection[2]\n",
        "  #calculate the volume\n",
        "    self.V=x*y*z\n",
        "  #these define <, >, and = so that a list of block objects can be sorted using the sorted() command\n",
        "  def __lt__(self, obj):\n",
        "    return ((self.V) < (obj.V))\n",
        "  def __gt__(self,obj):\n",
        "    return ((self.V > (obj.V)))\n",
        "  def __eq__(self,obj):\n",
        "    return ((self.V)==(obj.V))\n",
        "  #defines if the 3D projection of the object passed, obj, fits inside of the self\n",
        "  def fits(self, deez):\n",
        "    return ((self.X > deez.X) and (self.Y > deez.Y) and (self.Z > deez.Z))"
      ],
      "execution_count": null,
      "outputs": []
    },
    {
      "cell_type": "code",
      "metadata": {
        "id": "kjwD38As9CsH"
      },
      "source": [
        "#Input: block object\n",
        "#Output: A array of 4 block objects, cooresponding to the rotations possible within the problem\n",
        "def rotate(block_object):\n",
        "  rotations=[]\n",
        "  #these are the 4 rotations that the 4D block can make within the constraints of the problem such that x<=y<=z \n",
        "  rotations.append(block_object)\n",
        "  rotations.append(block(block_object.X,block_object.W,block_object.Y,block_object.Z))\n",
        "  rotations.append(block(block_object.Y,block_object.X,block_object.W,block_object.Z))\n",
        "  rotations.append(block(block_object.Z,block_object.X,block_object.Y,block_object.W))\n",
        "  \n",
        "  return rotations"
      ],
      "execution_count": null,
      "outputs": []
    },
    {
      "cell_type": "code",
      "metadata": {
        "id": "JtA3UoGv-9jH"
      },
      "source": [
        "#Input: Accepts array of n block Objects\n",
        "#Output:  Array of 4n block objects cooresponding to the 4 rotations the problem allows, sorted by decreasing volume of the 3D projecton V=x*y*z\n",
        "def make_rotations(blocks):\n",
        "  #create an empty array\n",
        "  rotations=[]\n",
        "  #iterate through the blocks\n",
        "  for block in blocks:\n",
        "    #create the 4 rotations for each block and add them to the list of rotations\n",
        "    rotations+=rotate(block)\n",
        "  #once you have all the rotations, sort them by volume in decreasing order\n",
        "  rotations=sorted(rotations,reverse=True)\n",
        "  #return the list of 4n rotations\n",
        "  return rotations\n"
      ],
      "execution_count": null,
      "outputs": []
    },
    {
      "cell_type": "code",
      "metadata": {
        "id": "EI80e-phGhf9"
      },
      "source": [
        "def generate_blocks(n):\n",
        "  blocks=[]\n",
        "  for i in range(n):\n",
        "    dim=[]\n",
        "    for i in range(4):\n",
        "      #choose a random integer for each dimension\n",
        "      random_value=random.randint(1,4*n)\n",
        "      dim.append(random_value)\n",
        "    #create a block object with the 4 random integers\n",
        "    blocks.append(block(dim[0],dim[1],dim[2],dim[3]))\n",
        "  \n",
        "  return blocks"
      ],
      "execution_count": null,
      "outputs": []
    },
    {
      "cell_type": "code",
      "metadata": {
        "id": "OKlp3zR8J5HW"
      },
      "source": [
        "def print_blocks(blocks):\n",
        "  print(\"Volume\\t W\\tX\\tY\\tZ\")\n",
        "  print(\"--------------------------------------------------------\")\n",
        "  for deez in blocks:\n",
        "    print(deez.V, \"\\t\",deez.W,\"\\t\", deez.X,\"\\t\",deez.Y,\"\\t\", deez.Z)\n",
        "  print(\"--------------------------------------------------------\\n\\n\")"
      ],
      "execution_count": null,
      "outputs": []
    },
    {
      "cell_type": "code",
      "metadata": {
        "id": "tcRrSbSy_wDp"
      },
      "source": [
        "#Dynamic Programming Algorithm\n",
        "#Input: The list of all blocks rotations\n",
        "#Output: The maximum block stack weight\n",
        "def DP(blocks):\n",
        "  #put the weights into the array, which will act as our lookup table\n",
        "  n=len(blocks)\n",
        "  msw=[0]*n\n",
        "  previous=[0]*n\n",
        "  for i in range(n):\n",
        "    msw[i]=blocks[i].W\n",
        "    previous[i]=i\n",
        "\n",
        "  #iterate through all blocks\n",
        "  for i in range(1, n):\n",
        "    for j in range(0, i):\n",
        "      #if block i fits inside of block j\n",
        "      if (blocks[j].fits(blocks[i])):\n",
        "        #if the current maximum stack weight is less than the max stack weight of i inside j, then reset it to i inside j\n",
        "        if (msw[i] < msw[j] + blocks[i].W):\n",
        "            msw[i] = msw[j] + blocks[i].W\n",
        "            #update i with the next best block that it fits within\n",
        "            previous[i]=j\n",
        "  maxm = -1\n",
        "  idx=-1\n",
        "  #this finds the maximum value of the sum and the index of the final block added to the stack \n",
        "  for i in range(n):\n",
        "    maxm = max(maxm, msw[i])\n",
        "    if (maxm == msw[i]):\n",
        "      idx=i\n",
        "  #sets the starting index to be the value of the last block added\n",
        "  seq=[blocks[idx]]\n",
        "  #traces the blocks in the best stack back from the final block to the starting block\n",
        "  while (idx!=previous[idx]):\n",
        "    idx=previous[idx]\n",
        "    seq.append(blocks[idx])\n",
        "    #returns the max value and the blocks in the stack\n",
        "  return maxm, reversed(seq)  \n",
        "  "
      ],
      "execution_count": null,
      "outputs": []
    },
    {
      "cell_type": "code",
      "metadata": {
        "colab": {
          "base_uri": "https://localhost:8080/"
        },
        "id": "lsckkOr6H6jC",
        "outputId": "a863f93c-c6d8-495a-ad71-8aad48d4bd29"
      },
      "source": [
        "#Driver Code\n",
        "blocks=generate_blocks(5)\n",
        "print(\"Original 4D Blocks\")\n",
        "print_blocks(blocks)\n",
        "blocks= make_rotations(blocks)\n",
        "print(\"All rotations of those blocks\")\n",
        "print_blocks(blocks)\n",
        "max_weight, max_stack=DP(blocks)\n",
        "print(\"Dynamic Programming Max Weight:\", max_weight)\n",
        "print(\"Max Stack of Blocks:\")\n",
        "print_blocks(max_stack)"
      ],
      "execution_count": null,
      "outputs": [
        {
          "output_type": "stream",
          "text": [
            "Original 4D Blocks\n",
            "Volume\t W\tX\tY\tZ\n",
            "--------------------------------------------------------\n",
            "2080 \t 2 \t 8 \t 13 \t 20\n",
            "384 \t 18 \t 3 \t 8 \t 16\n",
            "630 \t 17 \t 3 \t 14 \t 15\n",
            "608 \t 13 \t 4 \t 8 \t 19\n",
            "360 \t 17 \t 4 \t 9 \t 10\n",
            "--------------------------------------------------------\n",
            "\n",
            "\n",
            "All rotations of those blocks\n",
            "Volume\t W\tX\tY\tZ\n",
            "--------------------------------------------------------\n",
            "3570 \t 3 \t 14 \t 15 \t 17\n",
            "2304 \t 3 \t 8 \t 16 \t 18\n",
            "2080 \t 2 \t 8 \t 13 \t 20\n",
            "1976 \t 4 \t 8 \t 13 \t 19\n",
            "1530 \t 4 \t 9 \t 10 \t 17\n",
            "988 \t 8 \t 4 \t 13 \t 19\n",
            "864 \t 8 \t 3 \t 16 \t 18\n",
            "765 \t 14 \t 3 \t 15 \t 17\n",
            "714 \t 15 \t 3 \t 14 \t 17\n",
            "680 \t 9 \t 4 \t 10 \t 17\n",
            "630 \t 17 \t 3 \t 14 \t 15\n",
            "612 \t 10 \t 4 \t 9 \t 17\n",
            "608 \t 13 \t 4 \t 8 \t 19\n",
            "520 \t 8 \t 2 \t 13 \t 20\n",
            "432 \t 16 \t 3 \t 8 \t 18\n",
            "416 \t 19 \t 4 \t 8 \t 13\n",
            "384 \t 18 \t 3 \t 8 \t 16\n",
            "360 \t 17 \t 4 \t 9 \t 10\n",
            "320 \t 13 \t 2 \t 8 \t 20\n",
            "208 \t 20 \t 2 \t 8 \t 13\n",
            "--------------------------------------------------------\n",
            "\n",
            "\n",
            "Dynamic Programming Max Weight: 40\n",
            "Max Stack of Blocks:\n",
            "Volume\t W\tX\tY\tZ\n",
            "--------------------------------------------------------\n",
            "3570 \t 3 \t 14 \t 15 \t 17\n",
            "630 \t 17 \t 3 \t 14 \t 15\n",
            "208 \t 20 \t 2 \t 8 \t 13\n",
            "--------------------------------------------------------\n",
            "\n",
            "\n"
          ],
          "name": "stdout"
        }
      ]
    }
  ]
}