{
  "nbformat": 4,
  "nbformat_minor": 0,
  "metadata": {
    "colab": {
      "name": "406_P1_Hamming_Distance_IO.ipynb",
      "provenance": [],
      "authorship_tag": "ABX9TyMGQ/UIobPzTMiwTmR2VVVS"
    },
    "kernelspec": {
      "name": "python3",
      "display_name": "Python 3"
    },
    "language_info": {
      "name": "python"
    }
  },
  "cells": [
    {
      "cell_type": "markdown",
      "metadata": {
        "id": "SQC6BhEyB3Xd"
      },
      "source": [
        ""
      ]
    },
    {
      "cell_type": "code",
      "metadata": {
        "id": "0sg_YpmujOpc"
      },
      "source": [
        "import math\n",
        "import random"
      ],
      "execution_count": null,
      "outputs": []
    },
    {
      "cell_type": "markdown",
      "metadata": {
        "id": "SF0IYzyPjQR6"
      },
      "source": [
        "Written by: George Grattan (Applied Math '22) for Dinesh Mehta for CSCI 406, Algorithms, at Colorado School of Mines.\n",
        "\n",
        "\n",
        "\n",
        "Last Edited: 7/26/2021"
      ]
    },
    {
      "cell_type": "code",
      "metadata": {
        "id": "jlbBH13Q91GS"
      },
      "source": [
        "def printTheArray(arr, n):\n",
        " \n",
        "    for i in range(0, n):\n",
        "        print(arr[i], end = \" \")\n",
        "     \n",
        "    print()\n",
        " \n",
        "# Function to generate all binary strings\n",
        "\n",
        "def generateAllBinaryStrings(n, arr, i, arr2):\n",
        " \n",
        "    if i == n:\n",
        "      arr2+=arr\n",
        "      return arr2\n",
        "     \n",
        "    # First assign \"0\" at ith position\n",
        "    # and try for all other permutations\n",
        "    # for remaining positions\n",
        "    arr[i] = 0\n",
        "    generateAllBinaryStrings(n, arr, i + 1,arr2)\n",
        " \n",
        "    # And then assign \"1\" at ith position\n",
        "    # and try for all other permutations\n",
        "    # for remaining positions\n",
        "    arr[i] = 1\n",
        "    generateAllBinaryStrings(n, arr, i + 1,arr2)\n",
        " "
      ],
      "execution_count": null,
      "outputs": []
    },
    {
      "cell_type": "code",
      "metadata": {
        "id": "ocKW0pHv94Eh"
      },
      "source": [
        "#Calculate the Hamming distance between two strings\n",
        "def hamming_distance(s1,s2):\n",
        "  ham=0\n",
        "  for i in range(len(s1)):\n",
        "    if (s1[i] != s2[i]):\n",
        "      ham+=1\n",
        "  return ham"
      ],
      "execution_count": null,
      "outputs": []
    },
    {
      "cell_type": "code",
      "metadata": {
        "id": "zBQz65Acn87L"
      },
      "source": [
        "#takes the raw output of the binary generator, and converts it to a list of binary strings\n",
        "def chunks(lst, n):\n",
        "    \"\"\"Yield successive n-sized chunks from lst.\"\"\"\n",
        "    for i in range(0, len(lst), n):\n",
        "        yield lst[i:i + n]\n",
        "\n"
      ],
      "execution_count": null,
      "outputs": []
    },
    {
      "cell_type": "code",
      "metadata": {
        "id": "yKPvBzAmt7Ye"
      },
      "source": [
        "def listToString(s): \n",
        "    \n",
        "    # initialize an empty string\n",
        "    str1 = \"\" \n",
        "    \n",
        "    # traverse in the string  \n",
        "    for ele in s: \n",
        "        str1 += str(ele)\n",
        "    \n",
        "    # return string  \n",
        "    return str1 "
      ],
      "execution_count": null,
      "outputs": []
    },
    {
      "cell_type": "code",
      "metadata": {
        "id": "m31is8bnu8iB"
      },
      "source": [
        "def generateBinary(n):\n",
        "  arr=[None]*n\n",
        "  arr2=[]\n",
        "  #print the strings:\n",
        "  generateAllBinaryStrings(n,arr,0,arr2)\n",
        "  arr2=chunks(arr2,n)\n",
        "  final_arr=[]\n",
        "  for bin_list in arr2:\n",
        "    final_arr.append(listToString(bin_list))\n",
        "  return final_arr"
      ],
      "execution_count": null,
      "outputs": []
    },
    {
      "cell_type": "code",
      "metadata": {
        "id": "s_75asVHvx5E"
      },
      "source": [
        "#Exhaustive Algorithm\n",
        "\n",
        "\n",
        "#TODO: DEBUG it is returning a worse value than \n",
        "def exhaustive(inputBinaryStrings,n):\n",
        "  #generate all possible binary strings of length n \n",
        "  allStrings=generateBinary(n)\n",
        "  #since the maximum hamming distance for binary strings of length n is n, we can use n+1 as a starting value for the minimum rather than MAX_INT\n",
        "  curr_min=n+1\n",
        "  curr_min_str=\"\"\n",
        "  #iterate through the input set\n",
        "  for string in allStrings:\n",
        "    max_ham=-1\n",
        "    max_ham_str=\"\"\n",
        "    #iterate through all possible binary strings of length n\n",
        "    for input_string in inputBinaryStrings:\n",
        "      #calculate the hamming distance\n",
        "      ham=hamming_distance(input_string, string)\n",
        "      #if the current hamming distance is greater than the max, reset the max\n",
        "      if (ham>max_ham):\n",
        "        max_ham=ham\n",
        "        max_ham_str=string\n",
        "      #Minimize the maximum hamming distance\n",
        "    if (max_ham< curr_min):\n",
        "      curr_min=max_ham\n",
        "      curr_min_str=max_ham_str\n",
        "  #print the inimum max hamming distance string, and return the respective score\n",
        "  return curr_min\n",
        "\n",
        "\n",
        "      \n",
        "  \n",
        "\n"
      ],
      "execution_count": null,
      "outputs": []
    },
    {
      "cell_type": "code",
      "metadata": {
        "id": "haQlAtqXf0h8"
      },
      "source": [
        "#Greedy Algorithm \n",
        "def greedy(inputBinaryStrings, n):\n",
        "  #store the number of values in the input set, k\n",
        "  k=len(inputBinaryStrings)\n",
        "  #initialize the sum array as zeros\n",
        "  opt=[0]*n\n",
        "  #iterate through the strings in the input\n",
        "  for string in inputBinaryStrings:\n",
        "    #iterate through the values within each binary string\n",
        "    for i in range(n):\n",
        "      #add the value to it's cooresponding position in the sum array\n",
        "      opt[i]+=int(string[i])\n",
        "  opt1=[]\n",
        "  #iterate through the values in the optimal array\n",
        "  for val in opt:\n",
        "    #divide by the number of binary strings in the input to attain the average\n",
        "    #if the average is less than 0.5 set it to 0 otherwise set it to 1\n",
        "    if ((val/k) >= 0.5):\n",
        "      opt1.append(1)\n",
        "    else:\n",
        "      opt1.append(0)\n",
        "  #convert the list to a string\n",
        "  opt_str=listToString(opt1)\n",
        "  #find the max hamming distance between the string and all the input strings\n",
        "  max_ham=0\n",
        "  for string in inputBinaryStrings:\n",
        "    ham= hamming_distance(string, opt_str)\n",
        "    if (ham> max_ham):\n",
        "      max_ham=ham\n",
        "  #return the string\n",
        "  return max_ham\n"
      ],
      "execution_count": null,
      "outputs": []
    },
    {
      "cell_type": "code",
      "metadata": {
        "id": "9Mi4t0mchdqg"
      },
      "source": [
        "#Generate input(n,k)\n",
        "def generate_random_input(n,k):\n",
        "  #generate an empty set for th einput\n",
        "  rand_input=set()\n",
        "  #while there are less than k items in the set\n",
        "  while (len(rand_input)<k):\n",
        "    #create an empty string\n",
        "    rand_str=\"\"\n",
        "    #iterate through the lenght of each string and add arandom 1 or 0 at the respective position\n",
        "    for i in range(n):\n",
        "      temp=str(random.randint(0,1))\n",
        "      rand_str+=temp\n",
        "    #if the string is not already in the set, add it \n",
        "    if rand_str not in rand_input:\n",
        "      rand_input.add(rand_str)\n",
        "  #this continues until there are k items in the set\n",
        "  return rand_input\n",
        "\n",
        "        "
      ],
      "execution_count": null,
      "outputs": []
    },
    {
      "cell_type": "code",
      "metadata": {
        "id": "iizuqCl91ACU"
      },
      "source": [
        "def create_input_file(n,k, iteration):\n",
        "  #generate input\n",
        "  rand_input=generate_random_input(n,k)\n",
        "  #create the filename and it's respective iteration\n",
        "  filename=\"Hamming_Distance_Input_\"\n",
        "  filename+=str(iteration)\n",
        "  f=open(filename,\"w\")\n",
        "  #write n the length of the binary strings to the first line\n",
        "  f.write(str(n)+\"\\n\")\n",
        "  #write k, the number of binary strings to the second line\n",
        "  f.write(str(k)+\"\\n\")\n",
        "  #write the binary strings to one line each\n",
        "  for i in rand_input:\n",
        "    f.write(i+\"\\n\")\n",
        "\n",
        "  f.write(\"\\n\")\n",
        "  #write the output, greedy first and if n<20 exhaustive second\n",
        "  greedy_output= greedy(rand_input,n)\n",
        "  f.write(\"Greedy Output:\"+ str(greedy_output)+\"\\n\")\n",
        "  if (n<20):\n",
        "    exhaustive_output=exhaustive(rand_input,n)\n",
        "    f.write(\"Exhaustive Output:\"+ str(exhaustive_output))\n",
        "  f.close()"
      ],
      "execution_count": null,
      "outputs": []
    },
    {
      "cell_type": "code",
      "metadata": {
        "id": "F8tqGGuLlIFN"
      },
      "source": [
        "#driver code\n",
        "#NOTE:  I accidentally flipped n and k in this code relative to what I gave students in the handout, here n is the length of the strings, and k is the number of strings the \n",
        "n=40\n",
        "k=1000\n",
        "num_iter=1\n",
        "for i in range(num_iter):\n",
        "  create_input_file(n,k,i)\n",
        "\n",
        "\n",
        "\n"
      ],
      "execution_count": null,
      "outputs": []
    }
  ]
}